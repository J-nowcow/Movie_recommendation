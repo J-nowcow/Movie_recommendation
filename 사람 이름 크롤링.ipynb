{
 "cells": [
  {
   "cell_type": "code",
   "execution_count": 160,
   "metadata": {},
   "outputs": [],
   "source": [
    "try:\n",
    "    from bs4 import BeautifulSoup\n",
    "except:\n",
    "    !pip install bs4"
   ]
  },
  {
   "cell_type": "code",
   "execution_count": 169,
   "metadata": {},
   "outputs": [],
   "source": [
    "import requests\n",
    "from bs4 import BeautifulSoup"
   ]
  },
  {
   "cell_type": "code",
   "execution_count": 170,
   "metadata": {},
   "outputs": [],
   "source": [
    "url = \"https://koreanname.me/api/rank/2008/2020/1\""
   ]
  },
  {
   "cell_type": "code",
   "execution_count": 171,
   "metadata": {},
   "outputs": [],
   "source": [
    "r = requests.get(url = \"https://koreanname.me/api/rank/2008/2020/1\")"
   ]
  },
  {
   "cell_type": "code",
   "execution_count": 172,
   "metadata": {},
   "outputs": [],
   "source": [
    "soup = BeautifulSoup(r.text, \"html.parser\")"
   ]
  },
  {
   "cell_type": "code",
   "execution_count": 173,
   "metadata": {},
   "outputs": [],
   "source": [
    "import json\n",
    "import urllib"
   ]
  },
  {
   "cell_type": "code",
   "execution_count": 174,
   "metadata": {},
   "outputs": [],
   "source": [
    "request = urllib.request.Request(url)\n",
    "response = urllib.request.urlopen(request)"
   ]
  },
  {
   "cell_type": "code",
   "execution_count": 175,
   "metadata": {},
   "outputs": [],
   "source": [
    "response_body = response.read().decode(\"utf-8\")"
   ]
  },
  {
   "cell_type": "code",
   "execution_count": 176,
   "metadata": {},
   "outputs": [],
   "source": [
    "s = json.loads(response_body)"
   ]
  },
  {
   "cell_type": "code",
   "execution_count": 177,
   "metadata": {},
   "outputs": [],
   "source": [
    "male_lst = []\n",
    "female_lst = []"
   ]
  },
  {
   "cell_type": "code",
   "execution_count": 178,
   "metadata": {
    "scrolled": true
   },
   "outputs": [],
   "source": [
    "for i in s['male']:\n",
    "    male_lst.append(i['name'])\n",
    "for i in s['female']:\n",
    "    female_lst.append(i['name'])"
   ]
  },
  {
   "cell_type": "code",
   "execution_count": 179,
   "metadata": {},
   "outputs": [],
   "source": [
    "url = \"https://namu.wiki/w/%ED%95%9C%EA%B5%AD%EC%9D%98%20%EC%84%B1%EC%94%A8\""
   ]
  },
  {
   "cell_type": "code",
   "execution_count": 180,
   "metadata": {},
   "outputs": [],
   "source": [
    "r = requests.get(url)\n",
    "soup = BeautifulSoup(r.text, \"html.parser\")"
   ]
  },
  {
   "cell_type": "code",
   "execution_count": 181,
   "metadata": {},
   "outputs": [],
   "source": [
    "s = soup.select(\"#app > div > div:nth-of-type(2) > article > div:nth-of-type(3) > div:nth-of-type(2) > div > div > div:nth-of-type(11) > div.wiki-table-wrap.table-center > table > tbody > tr:nth-of-type(2) > td > div > div > dl > dd > div > div > table > tbody\")[0]"
   ]
  },
  {
   "cell_type": "code",
   "execution_count": 182,
   "metadata": {},
   "outputs": [],
   "source": [
    "surname = []"
   ]
  },
  {
   "cell_type": "code",
   "execution_count": 183,
   "metadata": {},
   "outputs": [],
   "source": [
    "for i in s.select('a'):\n",
    "    tmp = str(i).split(\">\")[1].split(\"<\")[0]\n",
    "    if tmp:\n",
    "        surname.append(tmp)"
   ]
  },
  {
   "cell_type": "code",
   "execution_count": 184,
   "metadata": {},
   "outputs": [],
   "source": [
    "import random"
   ]
  },
  {
   "cell_type": "code",
   "execution_count": 185,
   "metadata": {},
   "outputs": [
    {
     "name": "stdout",
     "output_type": "stream",
     "text": [
      "음채은\n",
      "홍예서\n",
      "낭도현\n",
      "상하준\n",
      "사은성\n",
      "맹소민\n",
      "금현우\n",
      "시하진\n",
      "영서진\n",
      "서다은\n",
      "고지아\n",
      "학준수\n",
      "순강민\n",
      "음예은\n",
      "안하은\n",
      "창지수\n",
      "만다윤\n",
      "형준수\n",
      "권나연\n",
      "평서율\n"
     ]
    }
   ],
   "source": [
    "# surname : 성\n",
    "# female_lst : 여자 이름, male_lst : 남자 이름\n",
    "for i in range(20):\n",
    "    if random.random() > 0.5:\n",
    "        print(random.choice(surname) + random.choice(female_lst))\n",
    "    else:\n",
    "        print(random.choice(surname) + random.choice(male_lst))"
   ]
  },
  {
   "cell_type": "code",
   "execution_count": 168,
   "metadata": {},
   "outputs": [
    {
     "name": "stdout",
     "output_type": "stream",
     "text": [
      "mykmlo64@daum.net\n",
      "rzhoyc23@gmail.com\n",
      "xigthz41@daum.net\n",
      "fvbwxp79@naver.com\n",
      "wniqpc42@gmail.com\n",
      "rsqqox00@yonsei.ac.kr\n",
      "krpawo28@hanmail.net\n",
      "fpvqvc09@yonsei.ac.kr\n",
      "sgcnxl86@yonsei.ac.kr\n",
      "qprtna26@yonsei.ac.kr\n"
     ]
    }
   ],
   "source": [
    "for i in range(10):print(\"\".join([chr(random.randint(97,122)) for _ in range(6)]+[str(random.randint(0,9)) for _ in range(2)])+\"@\"+random.choice([\"naver.com\",\"daum.net\",\"gmail.com\",\"yonsei.ac.kr\",\"hanmail.net\"]) )"
   ]
  },
  {
   "cell_type": "code",
   "execution_count": null,
   "metadata": {},
   "outputs": [],
   "source": []
  }
 ],
 "metadata": {
  "kernelspec": {
   "display_name": "Python 3",
   "language": "python",
   "name": "python3"
  },
  "language_info": {
   "codemirror_mode": {
    "name": "ipython",
    "version": 3
   },
   "file_extension": ".py",
   "mimetype": "text/x-python",
   "name": "python",
   "nbconvert_exporter": "python",
   "pygments_lexer": "ipython3",
   "version": "3.7.4"
  }
 },
 "nbformat": 4,
 "nbformat_minor": 2
}
