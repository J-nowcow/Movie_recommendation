{
 "cells": [
  {
   "cell_type": "code",
   "execution_count": 35,
   "metadata": {},
   "outputs": [],
   "source": [
    "import pymysql\n",
    "import pandas as pd\n",
    "import random"
   ]
  },
  {
   "cell_type": "code",
   "execution_count": 16,
   "metadata": {},
   "outputs": [],
   "source": [
    "db = pymysql.connect(\n",
    "    user='root', \n",
    "    port = 3306,\n",
    "    password='zxcv0504', \n",
    "    host='127.0.0.1', \n",
    "    charset='utf8',\n",
    "    db = 'project'\n",
    ")"
   ]
  },
  {
   "cell_type": "code",
   "execution_count": 22,
   "metadata": {},
   "outputs": [],
   "source": [
    "def Login():\n",
    "    cursor = db.cursor()\n",
    "    while True:\n",
    "        user_name = input(\"아이디를 입력하세요.\")\n",
    "        sql = ''' \n",
    "        SELECT * \n",
    "        FROM user\n",
    "        WHERE UserName = \"''' + user_name + '\";'\n",
    "        check = cursor.execute(sql)\n",
    "        if check == 0:\n",
    "            print(\"해당하는 아이디가 없습니다. 다시 입력해주세요.\")\n",
    "            continue\n",
    "        password = input(\"비밀번호를 입력하세요.\")\n",
    "        tmp = cursor.fetchall()[0]\n",
    "        if password == tmp[2]:\n",
    "            print(\"로그인 성공! 아이디 :\", user_name)\n",
    "            break\n",
    "        else: \n",
    "            print(\"비밀번호가 틀렸습니다. 다시 입력해주세요.\")\n",
    "    return tmp[0]\n"
   ]
  },
  {
   "cell_type": "code",
   "execution_count": null,
   "metadata": {},
   "outputs": [],
   "source": [
    "# (Login ex) 선우준 bjiurf"
   ]
  },
  {
   "cell_type": "code",
   "execution_count": 24,
   "metadata": {},
   "outputs": [
    {
     "name": "stdout",
     "output_type": "stream",
     "text": [
      "아이디를 입력하세요.신세은\n",
      "비밀번호를 입력하세요.looemm\n",
      "로그인 성공! 아이디 : 신세은\n"
     ]
    },
    {
     "data": {
      "text/plain": [
       "5"
      ]
     },
     "execution_count": 24,
     "metadata": {},
     "output_type": "execute_result"
    }
   ],
   "source": [
    "Login()"
   ]
  },
  {
   "cell_type": "code",
   "execution_count": 15,
   "metadata": {},
   "outputs": [],
   "source": [
    "def Sign_up():\n",
    "    cursor = db.cursor()\n",
    "    while True:\n",
    "        user_name = input(\"아이디를 입력하세요.\")\n",
    "        sql = ''' \n",
    "        SELECT * \n",
    "        FROM user\n",
    "        WHERE UserName = \"''' + user_name + '\";'\n",
    "        check = cursor.execute(sql)\n",
    "        if check == 1:\n",
    "            print(\"중복된 아이디입니다. 다른 아이디를 입력해주세요.\")\n",
    "            continue\n",
    "        else:\n",
    "            break\n",
    "            \n",
    "    password = input(\"비밀번호를 입력하세요.\")\n",
    "    age = input(\"나이를 입력하세요.\")\n",
    "    sex = input(\"성별(m 또는 f)를 입력하세요.\")\n",
    "    if sex == \"m\": sex = 0\n",
    "    else: sex = 1\n",
    "\n",
    "    print(\"회원가입이 완료되었습니다!\")\n",
    "    n = cursor.execute(\"SELECT * FROM USER\")\n",
    "    cursor.execute(\"INSERT INTO USER VALUES(%d, '%s', '%s', '%s', '%s');\"%(n, user_name, password, age, sex))\n",
    "    db.commit()\n",
    "    \n",
    "    f = pd.read_csv(\"Data/User Data.csv\")\n",
    "    f.loc[len(f)] = [n, user_name, password, age, sex]\n",
    "    f.to_csv(\"Data/User Data.csv\", index = False)\n",
    "    return n"
   ]
  },
  {
   "cell_type": "code",
   "execution_count": 17,
   "metadata": {
    "scrolled": true
   },
   "outputs": [
    {
     "name": "stdout",
     "output_type": "stream",
     "text": [
      "아이디를 입력하세요.홍길동\n",
      "비밀번호를 입력하세요.1234\n",
      "나이를 입력하세요.20\n",
      "성별(m 또는 f)를 입력하세요.m\n",
      "회원가입이 완료되었습니다!\n"
     ]
    },
    {
     "data": {
      "text/plain": [
       "20"
      ]
     },
     "execution_count": 17,
     "metadata": {},
     "output_type": "execute_result"
    }
   ],
   "source": [
    "Sign_up()"
   ]
  },
  {
   "cell_type": "code",
   "execution_count": 100,
   "metadata": {},
   "outputs": [],
   "source": [
    "def Recommendation(user_ID, n):\n",
    "    cursor = db.cursor()\n",
    "    # 장르별 추천\n",
    "    if n == 1: \n",
    "        sql = \"\"\"\n",
    "        SELECT Genre, count(Genre) FROM user_has_movie u INNER JOIN genre_has_movie m ON m.Movie_Code = u.Movie_Code \n",
    "        WHERE User_ID = %d\n",
    "        GROUP BY genre\n",
    "        ORDER BY count(Genre) DESC;\n",
    "        \"\"\"%user_ID\n",
    "        cursor.execute(sql)\n",
    "        genre = cursor.fetchall()[0][0]\n",
    "        \n",
    "        sql = \"\"\"\n",
    "        SELECT Title, Genre\n",
    "        FROM movie m JOIN genre_has_movie g ON m.Movie_Code = g.Movie_code JOIN rating r ON r.Movie_code = m.Movie_code\n",
    "        WHERE Genre = \"%s\"\n",
    "        ORDER BY (((`r`.`Rating_Naver` * `r`.`Num_Naver`) + (`r`.`Rating_Daum` * `r`.`NUM_Daum`)) / (`r`.`Num_Naver` + `r`.`NUM_Daum`)) DESC\n",
    "        LIMIT 5;\"\"\"%genre\n",
    "        \n",
    "        cursor.execute(sql)\n",
    "        print(\"회원님이 가장 즐겨보시는 장르는 %s네요!\"%genre)\n",
    "        print(\"%s 장르에서 평점이 가장 높은 영화 5개입니다,\"%genre)\n",
    "        for a, i in enumerate(cursor.fetchall()):\n",
    "            print(a+1, i[0])\n",
    "    # 연령대별 추천\n",
    "    elif n == 2:\n",
    "        sql = \"\"\"\n",
    "        SELECT Age FROM user\n",
    "        WHERE User_ID = %d;\"\"\"%user_id\n",
    "        cursor.execute(sql)\n",
    "        age = cursor.fetchall()[0][0]\n",
    "        \n",
    "        sql = \"\"\"\n",
    "        SELECT m.Title, count(m.Movie_Code) c\n",
    "        FROM user u INNER JOIN user_has_movie um ON u.user_ID = um.user_ID JOIN movie m on um.Movie_Code = m.Movie_Code\n",
    "        WHERE u.Age BETWEEN %d and %d\n",
    "        GROUP BY m.Movie_Code\n",
    "        ORDER BY c DESC\n",
    "        LIMIT 5;\"\"\"%(age//10 * 10, age//10 * 10 + 9)\n",
    "        cursor.execute(sql)\n",
    "        print(\"회원님의 연령대에서 가장 인기가 많은 영화 5개입니다,\")\n",
    "        for a, i in enumerate(cursor.fetchall()):\n",
    "            print(a+1, i[0])\n",
    "    elif n == 3:\n",
    "        cursor.execute(\"SELECT Title FROM movie;\")\n",
    "        random_movie = random.choice(list(cursor.fetchall()))[0]\n",
    "        print(\"이런 영화는 어떠신가요? :\", random_movie)"
   ]
  },
  {
   "cell_type": "code",
   "execution_count": 92,
   "metadata": {},
   "outputs": [
    {
     "name": "stdout",
     "output_type": "stream",
     "text": [
      "회원님의 연령대에서 가장 인기가 많은 영화 5개입니다,\n",
      "1 물의\n",
      "2 계절과 계절 사이\n",
      "3 셧다운\n",
      "4 극장판 기븐\n",
      "5 죽지않는 인간들의 밤\n"
     ]
    }
   ],
   "source": [
    "Recommendation(5,2)"
   ]
  },
  {
   "cell_type": "code",
   "execution_count": 101,
   "metadata": {},
   "outputs": [],
   "source": [
    "def main():\n",
    "    while True:\n",
    "        print(\"다음 중 하나를 선택하세요.\")\n",
    "        print(\"1. 로그인\")\n",
    "        print(\"2. 회원가입\")\n",
    "        n = \"-1\"\n",
    "        while n not in [\"1\",\"2\"]:\n",
    "            n = input()\n",
    "        n = int(n)\n",
    "        if n == 1:\n",
    "            user_ID = Login()\n",
    "            break\n",
    "        elif n == 2:\n",
    "            user_ID = Sign_up()\n",
    "            break\n",
    "    print()\n",
    "    print(\"다음 중 하나를 선택하세요.\")\n",
    "    print(\"1. 장르별 추천\")\n",
    "    print(\"2. 연령대별 추천\")\n",
    "    print(\"3. 오늘의 랜덤 영화는?\")           \n",
    "    while True:\n",
    "        n = input()\n",
    "        if n in [\"1\",\"2\",\"3\"]:\n",
    "            Recommendation(user_ID, int(n))\n",
    "            break"
   ]
  },
  {
   "cell_type": "code",
   "execution_count": 102,
   "metadata": {},
   "outputs": [
    {
     "name": "stdout",
     "output_type": "stream",
     "text": [
      "다음 중 하나를 선택하세요.\n",
      "1. 로그인\n",
      "2. 회원가입\n",
      "1\n",
      "아이디를 입력하세요.신세은\n",
      "비밀번호를 입력하세요.looemm\n",
      "로그인 성공! 아이디 : 신세은\n",
      "\n",
      "다음 중 하나를 선택하세요.\n",
      "1. 장르별 추천\n",
      "2. 연령대별 추천\n",
      "3. 오늘의 랜덤 영화는?\n",
      "1\n",
      "회원님이 가장 즐겨보시는 장르는 드라마네요!\n",
      "드라마 장르에서 평점이 가장 높은 영화 5개입니다,\n",
      "1 물의\n",
      "2 사선의 끝\n",
      "3 나의이름\n",
      "4 오늘도 위위\n",
      "5 여수 밤바다\n"
     ]
    }
   ],
   "source": [
    "main()"
   ]
  },
  {
   "cell_type": "code",
   "execution_count": 106,
   "metadata": {},
   "outputs": [
    {
     "name": "stdout",
     "output_type": "stream",
     "text": [
      "다음 중 하나를 선택하세요.\n",
      "1. 로그인\n",
      "2. 회원가입\n",
      "1\n",
      "아이디를 입력하세요.신세으\n",
      "해당하는 아이디가 없습니다. 다시 입력해주세요.\n",
      "아이디를 입력하세요.신세은\n",
      "비밀번호를 입력하세요.looemm\n",
      "로그인 성공! 아이디 : 신세은\n",
      "\n",
      "다음 중 하나를 선택하세요.\n",
      "1. 장르별 추천\n",
      "2. 연령대별 추천\n",
      "3. 오늘의 랜덤 영화는?\n",
      "3\n",
      "이런 영화는 어떠신가요? : 소울\n"
     ]
    }
   ],
   "source": [
    "main()"
   ]
  },
  {
   "cell_type": "code",
   "execution_count": null,
   "metadata": {},
   "outputs": [],
   "source": [
    "아이디를 입력하세요.신세은\n",
    "비밀번호를 입력하세요.looemm\n",
    "로그인 성공! 아이디 : 신세은"
   ]
  }
 ],
 "metadata": {
  "kernelspec": {
   "display_name": "Python 3",
   "language": "python",
   "name": "python3"
  },
  "language_info": {
   "codemirror_mode": {
    "name": "ipython",
    "version": 3
   },
   "file_extension": ".py",
   "mimetype": "text/x-python",
   "name": "python",
   "nbconvert_exporter": "python",
   "pygments_lexer": "ipython3",
   "version": "3.7.4"
  }
 },
 "nbformat": 4,
 "nbformat_minor": 2
}
