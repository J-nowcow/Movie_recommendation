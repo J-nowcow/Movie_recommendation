{
 "cells": [
  {
   "cell_type": "code",
   "execution_count": 1,
   "metadata": {},
   "outputs": [],
   "source": [
    "from tqdm.notebook import tqdm"
   ]
  },
  {
   "cell_type": "code",
   "execution_count": 2,
   "metadata": {},
   "outputs": [],
   "source": [
    "import requests\n",
    "from bs4 import BeautifulSoup"
   ]
  },
  {
   "cell_type": "markdown",
   "metadata": {},
   "source": [
    "### 1. KOBIS 영화관 입장권 통합 전산망에서 영화 제목 크롤링\n",
    "\n",
    "총 10,000개의 영화 제목을 수집합니다."
   ]
  },
  {
   "cell_type": "code",
   "execution_count": 3,
   "metadata": {},
   "outputs": [],
   "source": [
    "URL = \"http://www.kobis.or.kr/kobis/business/mast/mvie/searchMovieList.do\""
   ]
  },
  {
   "cell_type": "code",
   "execution_count": 4,
   "metadata": {},
   "outputs": [],
   "source": [
    "page = 5\n",
    "payload = {'curPage':page}"
   ]
  },
  {
   "cell_type": "code",
   "execution_count": 5,
   "metadata": {},
   "outputs": [],
   "source": [
    "r = requests.get(URL, params = payload)"
   ]
  },
  {
   "cell_type": "code",
   "execution_count": 6,
   "metadata": {},
   "outputs": [],
   "source": [
    "soup = BeautifulSoup(r.text, \"html.parser\")"
   ]
  },
  {
   "cell_type": "code",
   "execution_count": 114,
   "metadata": {},
   "outputs": [],
   "source": [
    "movie_title = set()"
   ]
  },
  {
   "cell_type": "code",
   "execution_count": 172,
   "metadata": {},
   "outputs": [
    {
     "data": {
      "application/vnd.jupyter.widget-view+json": {
       "model_id": "7a56ceefebed4dbaa4be5d7556be9bf6",
       "version_major": 2,
       "version_minor": 0
      },
      "text/plain": [
       "HBox(children=(IntProgress(value=0, max=10), HTML(value='')))"
      ]
     },
     "metadata": {},
     "output_type": "display_data"
    },
    {
     "name": "stdout",
     "output_type": "stream",
     "text": [
      "\n"
     ]
    }
   ],
   "source": [
    "for page_num in tqdm(range(10)):\n",
    "    r = requests.get(URL, params = {\"curPage\":page_num+1})\n",
    "    soup = BeautifulSoup(r.text, \"html.parser\")\n",
    "    for i in range(10):\n",
    "        tmp = str(soup.select(\"#content > div.rst_sch > table > tbody > tr:nth-of-type(\"+str(i+1)+\") > td:nth-of-type(1)\")[0].a)\n",
    "        movie_title.add(tmp.split(\">\")[1].split(\"<\")[0])"
   ]
  },
  {
   "cell_type": "code",
   "execution_count": 118,
   "metadata": {
    "scrolled": true
   },
   "outputs": [
    {
     "data": {
      "text/plain": [
       "10"
      ]
     },
     "execution_count": 118,
     "metadata": {},
     "output_type": "execute_result"
    }
   ],
   "source": [
    "len(movie_title)"
   ]
  },
  {
   "cell_type": "code",
   "execution_count": 119,
   "metadata": {},
   "outputs": [
    {
     "data": {
      "text/plain": [
       "{'가장 보통의 연애',\n",
       " '마음 울적한 날엔',\n",
       " '메기',\n",
       " '버티고',\n",
       " '사선의 끝',\n",
       " '수상한 이웃',\n",
       " '열두 번째 용의자',\n",
       " '장사리 : 잊혀진 영웅들',\n",
       " '첫잔처럼',\n",
       " '판소리 복서'}"
      ]
     },
     "execution_count": 119,
     "metadata": {},
     "output_type": "execute_result"
    }
   ],
   "source": [
    "movie_title"
   ]
  },
  {
   "cell_type": "markdown",
   "metadata": {},
   "source": [
    "### 2. 네이버 영화에서 별점과 댓글 크롤링"
   ]
  },
  {
   "cell_type": "code",
   "execution_count": 169,
   "metadata": {},
   "outputs": [],
   "source": [
    "import time\n",
    "import random"
   ]
  },
  {
   "cell_type": "code",
   "execution_count": 171,
   "metadata": {},
   "outputs": [],
   "source": [
    "time.sleep(random.random()*2)"
   ]
  },
  {
   "cell_type": "code",
   "execution_count": 172,
   "metadata": {},
   "outputs": [],
   "source": [
    "star_rate = []"
   ]
  },
  {
   "cell_type": "code",
   "execution_count": 9,
   "metadata": {},
   "outputs": [],
   "source": [
    "title = \"가장 보통의 연애\""
   ]
  },
  {
   "cell_type": "code",
   "execution_count": 99,
   "metadata": {},
   "outputs": [],
   "source": [
    "naver = []"
   ]
  },
  {
   "cell_type": "code",
   "execution_count": 170,
   "metadata": {},
   "outputs": [
    {
     "name": "stdout",
     "output_type": "stream",
     "text": [
      "https://movie.naver.com/movie/bi/mi/point.nhn?code=182205&onlyActualPointYn=Y#pointAfterTab\n"
     ]
    }
   ],
   "source": [
    "code = \"\"\n",
    "for i in str(title.encode('euc-kr')).split(\"\\\\x\")[1:]:\n",
    "    code += \"%\"+i.upper().replace(\" \",\"+\")\n",
    "url = \"https://movie.naver.com/movie/search/result.nhn?query=\" + code + \"&section=all\"\n",
    "r = requests.get(url)\n",
    "soup = BeautifulSoup(r.text, \"html.parser\")\n",
    "movie_code = str(soup.select(\"#old_content > ul.search_list_1 > li > p > a\")[0]).split(\"=\")[2][:6]\n",
    "movie_code\n",
    "\n",
    "# 네이버 고유 영화 코드 찾기\n",
    "r = requests.get(url)\n",
    "soup = BeautifulSoup(r.text, \"html.parser\")\n",
    "movie_code = str(soup.select(\"#old_content > ul.search_list_1 > li > p > a\")[0]).split(\"=\")[2][:6]\n",
    "url = \"https://movie.naver.com/movie/bi/mi/point.nhn?code=\"+movie_code+\"&onlyActualPointYn=Y#pointAfterTab\"\n",
    "\n",
    "# 평점 정보 수집하기\n",
    "r = requests.get(url)\n",
    "soup = BeautifulSoup(r.text, \"html.parser\")\n",
    "rate = round(float(str(soup.select(\"#actual_point_tab_inner > div > span > span\")[0]).split(\":\")[1].split(\"%\")[0]) / 10.00, 3)\n",
    "people_num = int(soup.select(\"#graph_area > div.grade_netizen > div.title_area.grade_tit > div.sc_area > span > em\")[0].text.replace(\",\",\"\"))\n",
    "\n",
    "# 평점이 너무 적은 데이터는 표본에서 제거\n",
    "if people_num < 5:\n",
    "    movie.title.discard(title)\n",
    "else:\n",
    "    naver.append((title, rate, people_num))\n",
    "\n",
    "# 상위 3개 리뷰 가져오기\n",
    "tmplst = []\n",
    "url = \"https://movie.naver.com/movie/bi/mi/pointWriteFormList.nhn?code=\"+movie_code+\"&type=after&onlyActualPointYn=Y&isActualPointWriteExecute=false&isMileageSubscriptionAlready=false&isMileageSubscriptionReject=false\"\n",
    "r = requests.get(url)\n",
    "soup = BeautifulSoup(r.text, \"html.parser\")\n",
    "for i in range(3):\n",
    "    s = soup.select(\"body > div > div > div.score_result > ul > li:nth-of-type(\"+str(i+1)+\")\")[0]\n",
    "    top_rate = int(float(str(s.span.span).split(\":\")[1].split(\"%\")[0])//10)\n",
    "    top_review = soup.select(\"#_filtered_ment_\"+str(i))[0].text.strip()\n",
    "    tmplst.append((top_rate,top_review))\n"
   ]
  },
  {
   "cell_type": "code",
   "execution_count": null,
   "metadata": {},
   "outputs": [],
   "source": [
    "#content > div.article > div.section_group.section_group_frst > div.obj_section.noline > div > div.lst_people_area.height100 > ul > li:nth-child(1)"
   ]
  },
  {
   "cell_type": "code",
   "execution_count": 207,
   "metadata": {},
   "outputs": [],
   "source": [
    "url = \"https://movie.naver.com/movie/bi/mi/detail.nhn?code=126389\"\n",
    "r = requests.get(url)\n",
    "soup = BeautifulSoup(r.text, \"html.parser\")"
   ]
  },
  {
   "cell_type": "code",
   "execution_count": 209,
   "metadata": {},
   "outputs": [
    {
     "name": "stdout",
     "output_type": "stream",
     "text": [
      "구윤희\n",
      "양병간\n"
     ]
    }
   ],
   "source": [
    "for i in range(8):\n",
    "    try:\n",
    "        print(str(soup.select(\"#content > div.article > div.section_group.section_group_frst > div.obj_section.noline > div > div.lst_people_area.height100 > ul > li:nth-of-type(\"+str(i+1)+\") > p > a\")[0]).split('\"')[3])\n",
    "    except:\n",
    "        break"
   ]
  },
  {
   "cell_type": "code",
   "execution_count": 171,
   "metadata": {},
   "outputs": [
    {
     "data": {
      "text/plain": [
       "[(10,\n",
       "  '연애와 직장, 모든것에 공감하며 미친듯이 웃다가- 현실적인 대사들에 뼈 후려맞고 살짝 아파하는 나를 발견...☆ 최근 본 코미디/로맨스 장르 영화 중 가장 잘 나온 듯'),\n",
       " (10,\n",
       "  '소오올찍히 그냥 저냥한 로코물인줄 알았는데 왜 공효진이 로코장인이라고 불리는지 또 깨닫게 해줌. 공효진 김래원 케미가 상상이 안됐는데 김래원의 재발견임ㅋㅋㅋ쓰면서도 웃김 김래원이 자꾸 생각나섴ㅋㅋㅋ간만에 볼거없는 ...'),\n",
       " (10,\n",
       "  '공효진이랑 김래원 케미 미쳤다 ㅋㅋㅋㅋ 입모양게임하는거 보고 웃겨 죽을뻔 ㅠㅠ 팍팍한 삶에 한줄기 빛과 소금같은 영화였습니다...☆')]"
      ]
     },
     "execution_count": 171,
     "metadata": {},
     "output_type": "execute_result"
    }
   ],
   "source": [
    "tmplst"
   ]
  },
  {
   "cell_type": "code",
   "execution_count": 65,
   "metadata": {},
   "outputs": [],
   "source": [
    "import re\n",
    "import json\n",
    "import urllib"
   ]
  },
  {
   "cell_type": "code",
   "execution_count": 122,
   "metadata": {},
   "outputs": [],
   "source": [
    "url = \"https://movie.naver.com/movie/bi/mi/pointWriteFormList.nhn?code=\"+movie_code+\"&type=after&onlyActualPointYn=Y&isActualPointWriteExecute=false&isMileageSubscriptionAlready=false&isMileageSubscriptionReject=false\""
   ]
  },
  {
   "cell_type": "code",
   "execution_count": 126,
   "metadata": {},
   "outputs": [],
   "source": [
    "r = requests.get(url)\n",
    "soup = BeautifulSoup(r.text, \"html.parser\")"
   ]
  },
  {
   "cell_type": "code",
   "execution_count": 131,
   "metadata": {},
   "outputs": [],
   "source": []
  },
  {
   "cell_type": "code",
   "execution_count": 164,
   "metadata": {},
   "outputs": [],
   "source": []
  },
  {
   "cell_type": "code",
   "execution_count": null,
   "metadata": {},
   "outputs": [],
   "source": []
  },
  {
   "cell_type": "code",
   "execution_count": 173,
   "metadata": {},
   "outputs": [
    {
     "data": {
      "application/vnd.jupyter.widget-view+json": {
       "model_id": "58efd29f6e8e4bc6aa910dc6c0088faf",
       "version_major": 2,
       "version_minor": 0
      },
      "text/plain": [
       "HBox(children=(IntProgress(value=0, max=30), HTML(value='')))"
      ]
     },
     "metadata": {},
     "output_type": "display_data"
    },
    {
     "name": "stdout",
     "output_type": "stream",
     "text": [
      "d6' 가장 보통의 연애 8.540000000000001\n",
      "e2' 메기 8.78\n",
      "a3' 마음 울적한 날엔 9.5\n",
      "ba' 디어 마이 지니어스 10.0\n",
      "d2' 더 프롬 10.0\n",
      "\n"
     ]
    }
   ],
   "source": [
    "for i in tqdm(range(30)):\n",
    "    try:\n",
    "        title = movie_data[i][1]\n",
    "        # 해당하는 영화의 url 찾기\n",
    "        code = \"\"\n",
    "        for i in str(title.encode('euc-kr')).split(\"\\\\x\")[1:]:\n",
    "            code += \"%\"+i.upper().replace(\" \",\"+\")\n",
    "        url = \"https://movie.naver.com/movie/search/result.nhn?query=\" + code + \"&section=all\"\n",
    "        # 네이버 고유 영화 코드 찾기\n",
    "        r = requests.get(url)\n",
    "        soup = BeautifulSoup(r.text, \"html.parser\")\n",
    "        movie_code = str(soup.select(\"#old_content > ul.search_list_1 > li > p > a\")[0]).split(\"=\")[2][:6]\n",
    "        url = \"https://movie.naver.com/movie/bi/mi/point.nhn?code=\"+movie_code+\"&onlyActualPointYn=Y#pointAfterTab\"\n",
    "        # 평점 정보 수집하기\n",
    "        r = requests.get(url)\n",
    "        soup = BeautifulSoup(r.text, \"html.parser\")\n",
    "        rate = float(str(soup.select(\"#actual_point_tab_inner > div > span > span\")[0]).split(\":\")[1].split(\"%\")[0]) / 10\n",
    "        if rate:\n",
    "            print(i, title, rate)\n",
    "            star_rate.append((title, rate))\n",
    "    except:\n",
    "        continue"
   ]
  },
  {
   "cell_type": "code",
   "execution_count": 174,
   "metadata": {},
   "outputs": [
    {
     "data": {
      "text/plain": [
       "[('가장 보통의 연애', 8.540000000000001),\n",
       " ('메기', 8.78),\n",
       " ('마음 울적한 날엔', 9.5),\n",
       " ('디어 마이 지니어스', 10.0),\n",
       " ('더 프롬', 10.0)]"
      ]
     },
     "execution_count": 174,
     "metadata": {},
     "output_type": "execute_result"
    }
   ],
   "source": [
    "star_rate"
   ]
  },
  {
   "cell_type": "markdown",
   "metadata": {},
   "source": [
    "### 3. 다음 영화에서 별점과 댓글 크롤링"
   ]
  },
  {
   "cell_type": "code",
   "execution_count": null,
   "metadata": {},
   "outputs": [],
   "source": []
  }
 ],
 "metadata": {
  "kernelspec": {
   "display_name": "Python 3",
   "language": "python",
   "name": "python3"
  },
  "language_info": {
   "codemirror_mode": {
    "name": "ipython",
    "version": 3
   },
   "file_extension": ".py",
   "mimetype": "text/x-python",
   "name": "python",
   "nbconvert_exporter": "python",
   "pygments_lexer": "ipython3",
   "version": "3.7.4"
  }
 },
 "nbformat": 4,
 "nbformat_minor": 2
}
